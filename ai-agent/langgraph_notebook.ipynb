{
 "cells": [
  {
   "cell_type": "markdown",
   "id": "cd54b5a0",
   "metadata": {},
   "source": [
    "# LangGraph Agent\n",
    "## With Tools"
   ]
  },
  {
   "cell_type": "markdown",
   "id": "04733b43",
   "metadata": {},
   "source": [
    "## Library Imports"
   ]
  },
  {
   "cell_type": "code",
   "execution_count": 41,
   "id": "c40780ce",
   "metadata": {},
   "outputs": [],
   "source": [
    "# Way to communicate with agent\n",
    "from langchain_core.messages import HumanMessage\n",
    "\n",
    "# Interact with Anthropic model\n",
    "from langchain_anthropic import ChatAnthropic\n",
    "\n",
    "# Enable different parts of LangGraph Framework\n",
    "from langgraph.checkpoint.memory import MemorySaver\n",
    "from langgraph.graph import END, START, StateGraph, MessagesState\n",
    "import logging\n",
    "\n",
    "# Formatting the message returned by the agent\n",
    "from IPython.display import Image, Markdown, display\n",
    "\n",
    "# Display visual graphs\n",
    "from langchain_core.runnables.graph import CurveStyle, MermaidDrawMethod, NodeStyles\n",
    "\n",
    "# import toolkit that we created\n",
    "from swc_toolkit import SportsWorldCentralToolkit\n",
    "\n",
    "# LangChain tool functionality\n",
    "from langchain_core.tools import tool\n",
    "\n",
    "# LangChain support for toolkits\n",
    "from langgraph.prebuilt import ToolNode\n",
    "from typing import Literal"
   ]
  },
  {
   "cell_type": "code",
   "execution_count": 42,
   "id": "8b771d56",
   "metadata": {},
   "outputs": [],
   "source": [
    "import os\n",
    "from dotenv import load_dotenv, find_dotenv\n",
    "\n",
    "# dotenv_path = join(dirname(__file__), '.env')\n",
    "load_dotenv(find_dotenv())\n",
    "\n",
    "# You already doing it, you already loading your .env then you giving it to another env\n",
    "# This part not needed\n",
    "# Langchain\n",
    "# os.environ['LANGCHAIN_TRACING_V2'] = os.getenv('LANGCHAIN_TRACING_V2')\n",
    "# os.environ['LANGCHAIN_ENDPOINT'] = os.getenv('LANGCHAIN_ENDPOINT')\n",
    "# os.environ['LANGCHAIN_API_KEY'] = os.getenv('LANGCHAIN_API_KEY')\n",
    "# AvalAI\n",
    "# os.environ['ANTHROPIC_API_BASE'] = os.getenv('ANTHROPIC_API_BASE')\n",
    "# os.environ['ANTHROPIC_API_KEY'] = os.getenv('ANTHROPIC_API_KEY')\n",
    "anthropic_api_key = os.getenv(\"ANTHROPIC_API_KEY\")"
   ]
  },
  {
   "cell_type": "code",
   "execution_count": 43,
   "id": "182536fd",
   "metadata": {},
   "outputs": [],
   "source": [
    "# print(os.environ['ANTHROPIC_API_BASE'])\n",
    "# print(os.environ['ANTHROPIC_API_KEY'])"
   ]
  },
  {
   "cell_type": "code",
   "execution_count": 44,
   "id": "4c3e7e31",
   "metadata": {},
   "outputs": [],
   "source": [
    "import sys\n",
    "\n",
    "if \"ANTHROPIC_API_BASE\" not in os.environ:\n",
    "    logging.critical(\"ANTHROPIC_API_BASE environment variable is not set\")\n",
    "    sys.exit(1)\n",
    "\n",
    "if \"ANTHROPIC_API_KEY\" not in os.environ:\n",
    "    logging.critical(\"ANTHROPIC_API_KEY environment variable is not set\")\n",
    "    sys.exit(1)"
   ]
  },
  {
   "cell_type": "markdown",
   "id": "ddf07b6a",
   "metadata": {},
   "source": [
    "## Configure logging"
   ]
  },
  {
   "cell_type": "code",
   "execution_count": 45,
   "id": "cc902543",
   "metadata": {},
   "outputs": [],
   "source": [
    "# remove any existing logging handler\n",
    "for handler in logging.root.handlers[:]:\n",
    "    logging.root.removeHandler(handler)\n",
    "\n",
    "# Set logging level to INFO\n",
    "logging.basicConfig(\n",
    "    filename=\"langgraph_notebook.log\",\n",
    "    level=logging.INFO,\n",
    ")"
   ]
  },
  {
   "cell_type": "markdown",
   "id": "92ab083b",
   "metadata": {},
   "source": [
    "## Create toolkit"
   ]
  },
  {
   "cell_type": "code",
   "execution_count": 46,
   "id": "45416085",
   "metadata": {},
   "outputs": [],
   "source": [
    "# reference the toolkit that we created\n",
    "swc_toolkit = SportsWorldCentralToolkit()\n",
    "# create an instance of your toolkit class + retrieve all of the tools -> put those into tools object\n",
    "tools = swc_toolkit.get_tools()"
   ]
  },
  {
   "cell_type": "markdown",
   "id": "21fb5540",
   "metadata": {},
   "source": [
    "## Configure Agent and Model"
   ]
  },
  {
   "cell_type": "code",
   "execution_count": 47,
   "id": "aee75084",
   "metadata": {},
   "outputs": [
    {
     "name": "stdout",
     "output_type": "stream",
     "text": [
      "  % Total    % Received % Xferd  Average Speed   Time    Time     Time  Current\n",
      "                                 Dload  Upload   Total   Spent    Left  Speed\n",
      "  0     0    0     0    0     0      0      0 --:--:-- --:--:-- --:--:--     0      \"id\": \"anthropic.claude-haiku-4-5-20251001-v1:0\",\n",
      "      \"id\": \"anthropic.claude-3-5-haiku-20241022-v1:0\",\n",
      "      \"id\": \"anthropic.claude-3-haiku-20240307-v1:0\",\n",
      "      \"id\": \"anthropic.claude-sonnet-4-5-20250929-v1:0\",\n",
      "      \"id\": \"anthropic.claude-opus-4-1-20250805-v1:0\",\n",
      "      \"id\": \"anthropic.claude-opus-4-20250514-v1:0\",\n",
      "      \"id\": \"anthropic.claude-sonnet-4-20250514-v1:0\",\n",
      "      \"id\": \"anthropic.claude-3-7-sonnet-20250219-v1:0\",\n",
      "      \"id\": \"anthropic.claude-3-5-sonnet-20241022-v2:0\",\n",
      "      \"id\": \"anthropic.claude-3-5-sonnet-20240620-v1:0\",\n",
      "      \"id\": \"anthropic.claude-3-sonnet-20240229-v1:0\",\n",
      "100  130k  100  130k    0     0   152k      0 --:--:-- --:--:-- --:--:--  152k\n"
     ]
    }
   ],
   "source": [
    "!curl https://api.avalai.ir/public/models | grep \"claude\""
   ]
  },
  {
   "cell_type": "code",
   "execution_count": 54,
   "id": "1b8e86b1",
   "metadata": {},
   "outputs": [],
   "source": [
    "tool_node = ToolNode(tools)\n",
    "# Initialize Anthropic model, temperature sets how creative a model are, lesser the temperature =  less creative\n",
    "# Binding tools to model: making the model aware of the tools it has access to\n",
    "model = ChatAnthropic(\n",
    "    api_key=anthropic_api_key,\n",
    "    base_url=\"https://api.avalai.ir\",\n",
    "    model=\"anthropic.claude-haiku-4-5-20251001-v1:0\",\n",
    "    temperature=0,\n",
    "    # bind_tools enable the model to use the toolkit you created\n",
    ").bind_tools(tools)\n",
    "\n",
    "# to see the Secretstr value\n",
    "# val = model.anthropic_api_key.get_secret_value()\n",
    "# print(val)\n",
    "\n",
    "# conditional edge+ workflow that decides how to proceed based on the results.\n",
    "def should_continue(state: MessagesState) -> Literal[\"tools\", END]:\n",
    "    messages = state[\"messages\"]\n",
    "    last_message = messages[-1]\n",
    "    # if model suggest tool call, this returns the literal \"tools\"\n",
    "    if last_message.tool_calls:\n",
    "        return \"tools\"\n",
    "    return END\n",
    "\n",
    "\n",
    "# Send message to model with state object\n",
    "def call_model(state: MessagesState):\n",
    "    messages = state[\"messages\"]\n",
    "    response = model.invoke(messages)\n",
    "    return {\"messages\": [response]}\n",
    "\n",
    "\n",
    "# define the task that is available to agent\n",
    "workflow = StateGraph(MessagesState)\n",
    "# the agent node will use call_model function above\n",
    "workflow.add_node(\"agent\", call_model)\n",
    "# graph node to perform tool call using toolkit\n",
    "workflow.add_node(\"tools\", tool_node)\n",
    "# defines the start of the graph -> directly call the agent node\n",
    "workflow.add_edge(START, \"agent\")\n",
    "# add conditional edge 0> use should_continue function\n",
    "workflow.add_conditional_edges(\"agent\", should_continue,)\n",
    "workflow.add_edge(\"tools\", \"agent\")\n",
    "# compile the graph into runnable LangChain object -> app\n",
    "# https://python.langchain.com/v0.2/docs/concepts/#runnable-interface\n",
    "checkpointer = MemorySaver()\n",
    "app = workflow.compile(checkpointer=checkpointer)"
   ]
  },
  {
   "cell_type": "markdown",
   "id": "d427d297",
   "metadata": {},
   "source": [
    "## Visualize the Graph\n",
    "Help you see the nodes and edges that is created in this code"
   ]
  },
  {
   "cell_type": "code",
   "execution_count": 55,
   "id": "05346838",
   "metadata": {},
   "outputs": [
    {
     "data": {
      "image/png": "[encoded data removed]",
      "text/plain": [
       "<IPython.core.display.Image object>"
      ]
     },
     "metadata": {},
     "output_type": "display_data"
    }
   ],
   "source": [
    "display(\n",
    "    Image(\n",
    "        app.get_graph().draw_mermaid_png(\n",
    "            draw_method=MermaidDrawMethod.API,\n",
    "        )\n",
    "    )\n",
    ")"
   ]
  },
  {
   "cell_type": "markdown",
   "id": "834875de",
   "metadata": {},
   "source": [
    "## Chat with the LangGraph Agent\n",
    "`app.invoke()` + `messages` object = conversation with agent <br>\n",
    "`invoke()` contain a `config` object + `thread_id` value <br>\n",
    "`tread_id` enable the model to remember the previous messages within conversation"
   ]
  },
  {
   "cell_type": "code",
   "execution_count": null,
   "id": "c816ffb9",
   "metadata": {},
   "outputs": [],
   "source": [
    "# final_state contains a list of messages between the model and the human\n",
    "final_state = app.invoke(\n",
    "    # send messages object and adds a question as a HumanMessage\n",
    "    {\"messages\": [HumanMessage(content=\"What teams did Joe Montana play for?\")]},\n",
    "    # pass thread_id so the agent will remember the previous messages in the same conversation\n",
    "    config={\"configurable\": {\"thread_id\": 99}},\n",
    ")"
   ]
  },
  {
   "cell_type": "code",
   "execution_count": 61,
   "id": "cbe010ab",
   "metadata": {},
   "outputs": [
    {
     "data": {
      "text/markdown": [
       "I don't have any information about a fantasy football platform called \"SportsWorldCentral\" or its leagues. This could be a smaller or regional platform that isn't widely documented, or it may be a fictional platform.\n",
       "\n",
       "If you're looking for information about this platform, I'd recommend:\n",
       "- Visiting their official website directly\n",
       "- Checking their help or FAQ section\n",
       "- Contacting their customer support\n",
       "\n",
       "Is there something specific about fantasy football leagues or platforms I can help you with?"
      ],
      "text/plain": [
       "<IPython.core.display.Markdown object>"
      ]
     },
     "metadata": {},
     "output_type": "display_data"
    }
   ],
   "source": [
    "# The most recent message will get shown in the -1\n",
    "# remember models are nondeterministic = interactions may be slightly different\n",
    "display(Markdown(final_state[\"messages\"][-1].content))"
   ]
  },
  {
   "cell_type": "code",
   "execution_count": 62,
   "id": "cb4f23e0",
   "metadata": {},
   "outputs": [
    {
     "data": {
      "text/markdown": [
       "Based on the data I retrieved, here are the leagues in the SportsWorldCentral fantasy football platform:\n",
       "\n",
       "1. **Pigskin Prodigal Fantasy League** (League ID: 5001)\n",
       "   - Scoring Type: PPR (Points Per Reception)\n",
       "   - 12 teams\n",
       "\n",
       "2. **Recurring Champions League** (League ID: 5002)\n",
       "   - Scoring Type: Half-PPR\n",
       "   - 8 teams\n",
       "\n",
       "3. **AHAHFZZFFFL** (League ID: 5003)\n",
       "   - Scoring Type: Half-PPR\n",
       "   - 8 teams\n",
       "\n",
       "4. **Gridiron Gurus Fantasy League** (League ID: 5004)\n",
       "   - Scoring Type: PPR\n",
       "   - 12 teams\n",
       "\n",
       "5. **Best League Ever** (League ID: 5005)\n",
       "   - Scoring Type: PPR\n",
       "   - 12 teams\n",
       "\n",
       "These leagues contain various fantasy football teams with different scoring formats. Would you like more details about any specific league or its teams?"
      ],
      "text/plain": [
       "<IPython.core.display.Markdown object>"
      ]
     },
     "metadata": {},
     "output_type": "display_data"
    }
   ],
   "source": [
    "final_state = app.invoke(\n",
    "    {\n",
    "        \"messages\": [\n",
    "            HumanMessage(\n",
    "                content=\"What are the leagues in the SportsWorldCentral fantasy football platform?\"\n",
    "            )\n",
    "        ]\n",
    "    },\n",
    "    config={\"configurable\": {\"thread_id\": 99}},\n",
    ")\n",
    "display(Markdown(final_state[\"messages\"][-1].content))"
   ]
  },
  {
   "cell_type": "code",
   "execution_count": 63,
   "id": "bebf3b08",
   "metadata": {},
   "outputs": [
    {
     "data": {
      "text/markdown": [
       "Here are the leagues in SportsWorldCentral:\n",
       "\n",
       "1. Pigskin Prodigal Fantasy League\n",
       "2. Recurring Champions League\n",
       "3. AHAHFZZFFFL\n",
       "4. Gridiron Gurus Fantasy League\n",
       "5. Best League Ever"
      ],
      "text/plain": [
       "<IPython.core.display.Markdown object>"
      ]
     },
     "metadata": {},
     "output_type": "display_data"
    }
   ],
   "source": [
    "final_state = app.invoke(\n",
    "    {\"messages\": [HumanMessage(content=\"What are the leagues in the SportsWorldCentral fantasy football platform? Keep the response simple.\")]},\n",
    "    config={\"configurable\": {'thread_id': 99}}\n",
    ")\n",
    "display(Markdown(final_state[\"messages\"][-1].content))"
   ]
  }
 ],
 "metadata": {
  "kernelspec": {
   "display_name": "Python 3 (ipykernel)",
   "language": "python",
   "name": "python3"
  },
  "language_info": {
   "codemirror_mode": {
    "name": "ipython",
    "version": 3
   },
   "file_extension": ".py",
   "mimetype": "text/x-python",
   "name": "python",
   "nbconvert_exporter": "python",
   "pygments_lexer": "ipython3",
   "version": "3.12.0"
  }
 },
 "nbformat": 4,
 "nbformat_minor": 5
}
